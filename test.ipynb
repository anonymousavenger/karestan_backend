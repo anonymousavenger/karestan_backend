{
 "cells": [
  {
   "cell_type": "code",
   "execution_count": null,
   "metadata": {},
   "outputs": [],
   "source": [
    "a  = 2"
   ]
  },
  {
   "cell_type": "code",
   "execution_count": null,
   "metadata": {},
   "outputs": [],
   "source": [
    "import pandas as pd\n",
    "df = pd.read_pickle(\"data/processed_all.p\")"
   ]
  },
  {
   "cell_type": "code",
   "execution_count": null,
   "metadata": {},
   "outputs": [],
   "source": [
    "from wsgi import FlaskApp\n",
    "with FlaskApp.config(env='test').context():\n",
    "    from models.main_models import db\n",
    "    try:\n",
    "        db.create_all()\n",
    "    except Exception as e:\n",
    "        db.session.rollback()\n",
    "        db.drop_all()\n",
    "        raise e\n",
    "    "
   ]
  },
  {
   "cell_type": "code",
   "execution_count": null,
   "metadata": {},
   "outputs": [],
   "source": [
    "from wsgi import FlaskApp\n",
    "with FlaskApp.config(env='test').context():\n",
    "    from models.main_models import User, Company, UserType, db\n",
    "    user = User(name=\"jibguy\", password=\"cdsfshfk\", type=UserType.employer, is_verified=True, email=\"chos@yahoo.com\")\n",
    "    db.session.add(user)\n",
    "    try:\n",
    "        db.session.commit()\n",
    "    except Exception as e:\n",
    "        db.drop_all()\n",
    "        raise e\n",
    "    \n"
   ]
  },
  {
   "cell_type": "code",
   "execution_count": null,
   "metadata": {},
   "outputs": [],
   "source": [
    "with FlaskApp.config(env='test').context():\n",
    "    db.session.rollback()\n",
    "    db.session.close()"
   ]
  },
  {
   "cell_type": "code",
   "execution_count": null,
   "metadata": {},
   "outputs": [],
   "source": []
  }
 ],
 "metadata": {
  "interpreter": {
   "hash": "c1e71ea277507818c0663e41fbc95513914928624e634f03b439a69582c723f4"
  },
  "kernelspec": {
   "display_name": "Python 3.8.10 64-bit ('venv': venv)",
   "language": "python",
   "name": "python3"
  },
  "language_info": {
   "codemirror_mode": {
    "name": "ipython",
    "version": 3
   },
   "file_extension": ".py",
   "mimetype": "text/x-python",
   "name": "python",
   "nbconvert_exporter": "python",
   "pygments_lexer": "ipython3",
   "version": "3.8.10"
  },
  "orig_nbformat": 4
 },
 "nbformat": 4,
 "nbformat_minor": 2
}
