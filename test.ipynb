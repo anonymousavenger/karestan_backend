{
 "cells": [
  {
   "cell_type": "code",
   "execution_count": null,
   "metadata": {},
   "outputs": [],
   "source": [
    "a  = 2"
   ]
  },
  {
   "cell_type": "code",
   "execution_count": null,
   "metadata": {},
   "outputs": [],
   "source": [
    "import pandas as pd\n",
    "df = pd.read_pickle(\"data/processed_all.p\")"
   ]
  },
  {
   "cell_type": "code",
   "execution_count": 1,
   "metadata": {},
   "outputs": [],
   "source": [
    "from wsgi import FlaskApp\n",
    "with FlaskApp.config(env='test').context():\n",
    "    FlaskApp.drop_tables()\n",
    "    FlaskApp.create_tables()"
   ]
  },
  {
   "cell_type": "code",
   "execution_count": null,
   "metadata": {},
   "outputs": [],
   "source": [
    "from wsgi import FlaskApp\n",
    "with FlaskApp.config(env='test').context():\n",
    "    from models.main_models import User, Company, UserType\n",
    "    session = FlaskApp.db_session()\n",
    "    user = User(name=\"joobguy\", password=\"cdsfshfk\", type=UserType.employee, is_verified=True, email=\"chos1@yahoo.com\")\n",
    "    session.add(user)\n",
    "    try:\n",
    "        session.commit()\n",
    "    except Exception as e:\n",
    "        session.rollback()\n",
    "        raise e\n",
    "    \n"
   ]
  },
  {
   "cell_type": "code",
   "execution_count": 2,
   "metadata": {},
   "outputs": [],
   "source": [
    "from wsgi import FlaskApp\n",
    "with FlaskApp.config(env='test').context():\n",
    "    from util.seeding import run\n",
    "    try:\n",
    "        run()\n",
    "    except Exception as e:\n",
    "        FlaskApp.db_session().rollback()\n",
    "        raise e"
   ]
  },
  {
   "cell_type": "code",
   "execution_count": null,
   "metadata": {},
   "outputs": [],
   "source": [
    "a = \"salaaaam\""
   ]
  },
  {
   "cell_type": "code",
   "execution_count": null,
   "metadata": {},
   "outputs": [],
   "source": [
    "a[0:-1] + 'y'"
   ]
  },
  {
   "cell_type": "code",
   "execution_count": null,
   "metadata": {},
   "outputs": [],
   "source": []
  }
 ],
 "metadata": {
  "interpreter": {
   "hash": "c1e71ea277507818c0663e41fbc95513914928624e634f03b439a69582c723f4"
  },
  "kernelspec": {
   "display_name": "Python 3.8.10 64-bit ('venv': venv)",
   "language": "python",
   "name": "python3"
  },
  "language_info": {
   "codemirror_mode": {
    "name": "ipython",
    "version": 3
   },
   "file_extension": ".py",
   "mimetype": "text/x-python",
   "name": "python",
   "nbconvert_exporter": "python",
   "pygments_lexer": "ipython3",
   "version": "3.8.10"
  },
  "orig_nbformat": 4
 },
 "nbformat": 4,
 "nbformat_minor": 2
}
